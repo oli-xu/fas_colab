{
  "nbformat": 4,
  "nbformat_minor": 0,
  "metadata": {
    "colab": {
      "provenance": [],
      "gpuType": "T4"
    },
    "kernelspec": {
      "name": "python3",
      "display_name": "Python 3"
    },
    "language_info": {
      "name": "python"
    },
    "accelerator": "GPU"
  },
  "cells": [
    {
      "cell_type": "markdown",
      "source": [
        "# Stable Diffusion FAS JIANAN\n",
        "> 如有错误,请在[抱脸](https://huggingface.co/datasets/FASOXO/FAS-warehouse)上提供的Q群号反馈错误内容\n",
        "\n",
        "> 作者：**法斯** **FAS**\n",
        "\n",
        "> **倒卖者全家死光**\n",
        "\n",
        ">版本: 1.0(简约版）\n",
        "\n",
        "> 相关链接 / [Civitai](https://civitai.com/) / [huggingface](https://huggingface.co/) / [ngrok](https://ngrok.com/) /\n",
        "\n",
        ">每个栏目运行了后过1~2秒在运行下一个！"
      ],
      "metadata": {
        "id": "J4HzM9gZ4W4M"
      }
    },
    {
      "cell_type": "code",
      "execution_count": 1,
      "metadata": {
        "cellView": "form",
        "id": "i1XocvfvwPDH"
      },
      "outputs": [],
      "source": [
        "# @title 获取\n",
        "%%capture\n",
        "!wget https://huggingface.co/datasets/FASOXO/FAS_Colab_Stable_diffusion/resolve/main/FASSD.zip\n",
        "!unzip FASSD.zip"
      ]
    },
    {
      "cell_type": "code",
      "source": [
        "# @title 安装\n",
        "%%capture\n",
        "%run SDJAN.ipynb"
      ],
      "metadata": {
        "cellView": "form",
        "id": "6QUo9XdfzQq-"
      },
      "execution_count": 4,
      "outputs": []
    },
    {
      "cell_type": "code",
      "source": [
        "# @title 启动\n",
        "%cd /content/ipynbFASSD\n",
        "%run SDJQD.ipynb"
      ],
      "metadata": {
        "cellView": "form",
        "id": "CZYrcfBGyJdb"
      },
      "execution_count": null,
      "outputs": []
    }
  ]
}